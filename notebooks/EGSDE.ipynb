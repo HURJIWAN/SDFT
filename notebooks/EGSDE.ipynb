{
 "cells": [
  {
   "cell_type": "code",
   "execution_count": 1,
   "metadata": {},
   "outputs": [],
   "source": [
    "import os\n",
    "import sys\n",
    "sys.path.append(os.pardir)\n",
    "\n",
    "import numpy as np\n",
    "import torch as th\n",
    "import torch.distributed as dist\n",
    "import math\n",
    "import importlib\n",
    "\n",
    "from guided_diffusion import dist_util, logger\n",
    "from guided_diffusion.image_datasets import load_data_sde\n",
    "from guided_diffusion.script_util import (\n",
    "    NUM_CLASSES,\n",
    "    model_and_diffusion_defaults,\n",
    "    create_model_and_diffusion,\n",
    "    add_dict_to_argparser,\n",
    "    args_to_dict,\n",
    "    create_dse,\n",
    ")\n",
    "from torchvision import utils\n",
    "from easydict import EasyDict\n",
    "import PIL.Image as Image\n",
    "import torchvision\n",
    "import lpips\n",
    "from psnrssim import MetricI2I\n",
    "\n",
    "to_pil = torchvision.transforms.ToPILImage()\n",
    "device = 'cuda:0'\n",
    "batch_size = 4"
   ]
  },
  {
   "cell_type": "code",
   "execution_count": 2,
   "metadata": {},
   "outputs": [
    {
     "name": "stdout",
     "output_type": "stream",
     "text": [
      "Setting up [LPIPS] perceptual loss: trunk [vgg], v[0.1], spatial [off]\n"
     ]
    },
    {
     "name": "stderr",
     "output_type": "stream",
     "text": [
      "/home/jiwan.hur/.local/lib/python3.8/site-packages/torchvision/models/_utils.py:208: UserWarning: The parameter 'pretrained' is deprecated since 0.13 and may be removed in the future, please use 'weights' instead.\n",
      "  warnings.warn(\n",
      "/home/jiwan.hur/.local/lib/python3.8/site-packages/torchvision/models/_utils.py:223: UserWarning: Arguments other than a weight enum or `None` for 'weights' are deprecated since 0.13 and may be removed in the future. The current behavior is equivalent to passing `weights=VGG16_Weights.IMAGENET1K_V1`. You can also use `weights=VGG16_Weights.DEFAULT` to get the most up-to-date weights.\n",
      "  warnings.warn(msg)\n"
     ]
    },
    {
     "name": "stdout",
     "output_type": "stream",
     "text": [
      "Loading model from: /opt/conda/lib/python3.8/site-packages/lpips/weights/v0.1/vgg.pth\n"
     ]
    }
   ],
   "source": [
    "metric = MetricI2I(scope='EGSDE', device=device)"
   ]
  },
  {
   "cell_type": "code",
   "execution_count": 3,
   "metadata": {},
   "outputs": [],
   "source": [
    "data = load_data_sde(\n",
    "        data_dir='/mnt/disk1/FFHQ_1000/',\n",
    "        batch_size=batch_size,\n",
    "        image_size=256,\n",
    "        class_cond=False,\n",
    "        deterministic=True\n",
    "    )"
   ]
  },
  {
   "cell_type": "code",
   "execution_count": 4,
   "metadata": {},
   "outputs": [
    {
     "name": "stdout",
     "output_type": "stream",
     "text": [
      "Done\n"
     ]
    }
   ],
   "source": [
    "#load domain-specific feature extractor\n",
    "dse = create_dse(image_size=256,\n",
    "                    num_class=2,\n",
    "                    classifier_use_fp16=True,\n",
    "                    classifier_width=128,\n",
    "                    classifier_depth=2,\n",
    "                    classifier_attention_resolutions='32,16,8',\n",
    "                    classifier_use_scale_shift_norm=True,\n",
    "                    classifier_resblock_updown=True,\n",
    "                    classifier_pool='attention',\n",
    "                    phase='test')\n",
    "states = th.load('../models/face2portrait.pt')\n",
    "dse.load_state_dict(states)\n",
    "dse.to(device)\n",
    "dse.convert_to_fp16()\n",
    "dse.eval()\n",
    "print('Done')"
   ]
  },
  {
   "cell_type": "code",
   "execution_count": 5,
   "metadata": {},
   "outputs": [],
   "source": [
    "from resizer import Resizer\n",
    "\n",
    "down_N = 32\n",
    "shape = (batch_size, 3, 256, 256)\n",
    "shape_d = (batch_size, 3, int(256 / down_N), int(256 / down_N))\n",
    "down = Resizer(shape, 1 / down_N).to(device)\n",
    "up = Resizer(shape_d, down_N).to(device)\n",
    "die = (down, up)"
   ]
  },
  {
   "cell_type": "code",
   "execution_count": 6,
   "metadata": {},
   "outputs": [
    {
     "name": "stdout",
     "output_type": "stream",
     "text": [
      "done\n"
     ]
    }
   ],
   "source": [
    "args_src = EasyDict({'attention_resolutions':'16', \n",
    "        'batch_size':batch_size, \n",
    "        'channel_mult':'', \n",
    "        'class_cond':False, \n",
    "        'clip_denoised':True, \n",
    "        'diffusion_steps':1000, \n",
    "        'dropout':0.0, \n",
    "        'image_size':256, \n",
    "        'learn_sigma':True, \n",
    "        'model_path':'../logs/metface_distill_14/model010000.pt', \n",
    "        'noise_schedule':'linear', \n",
    "        'num_channels':128, \n",
    "        'num_head_channels':64, \n",
    "        'num_heads':4, \n",
    "        'num_heads_upsample':-1, \n",
    "        'num_res_blocks':1, \n",
    "        'num_samples':10000, \n",
    "        'p2_gamma':0, \n",
    "        'p2_k':1, \n",
    "        'predict_xstart':False, \n",
    "        'resblock_updown':True, \n",
    "        'rescale_learned_sigmas':False,\n",
    "        'rescale_timesteps':False, \n",
    "        'sample_dir':'samples/metface_transfer_step_40_40k',\n",
    "        'timestep_respacing':'ddim40', \n",
    "        'use_checkpoint':False,\n",
    "        'use_ddim':True, \n",
    "        'use_fp16':True, \n",
    "        'use_kl':False, \n",
    "        'use_new_attention_order':False, \n",
    "        'use_scale_shift_norm':True,\n",
    "        'data_dir':''})\n",
    "        \n",
    "model_src, diffusion = create_model_and_diffusion(\n",
    "    **args_to_dict(args_src, model_and_diffusion_defaults().keys())\n",
    ")\n",
    "\n",
    "model_src.load_state_dict(\n",
    "    dist_util.load_state_dict(args_src.model_path, map_location=\"cpu\")\n",
    ")\n",
    "model_src.to(device)\n",
    "model_src.convert_to_fp16()\n",
    "model_src.eval()\n",
    "print('done')\n",
    "\n",
    "model_kwargs = {}\n",
    "sample_fn = (\n",
    "    diffusion.p_sample_loop if not args_src.use_ddim else diffusion.ddim_sample_loop\n",
    ")"
   ]
  },
  {
   "cell_type": "code",
   "execution_count": 7,
   "metadata": {},
   "outputs": [
    {
     "name": "stdout",
     "output_type": "stream",
     "text": [
      "EGSDE with ls:500 - psnr: 12.743446, ssim: 0.283273, lpips: 0.545026, \n",
      "EGSDE with ls:400 - psnr: 12.606478, ssim: 0.272000, lpips: 0.551730, \n",
      "EGSDE with ls:300 - psnr: 12.700075, ssim: 0.276487, lpips: 0.547047, \n",
      "EGSDE with ls:200 - psnr: 12.700248, ssim: 0.273622, lpips: 0.550184, \n",
      "EGSDE with ls:100 - psnr: 12.643587, ssim: 0.274843, lpips: 0.550943, \n"
     ]
    }
   ],
   "source": [
    "for ls in [500, 400, 300, 200, 100]:\n",
    "    metric.reset()\n",
    "    metric.scope = f'EGSDE with ls:{ls}'\n",
    "    for idx, batch in enumerate(data):\n",
    "        img, cond = batch\n",
    "        img = img.to(device)\n",
    "        noise = th.randn_like(img)\n",
    "        # t = th.tensor([t_end] * img.shape[0], device=device)\n",
    "        model_kwargs = {}\n",
    "        egsde_kwargs = {\"dse\":dse, \"ls\":ls, \"li\":2, \"die\":die}\n",
    "        sample_src = sample_fn(\n",
    "            model_src,\n",
    "            (args_src.batch_size, 3, args_src.image_size, args_src.image_size),\n",
    "            clip_denoised=args_src.clip_denoised,\n",
    "            model_kwargs=model_kwargs,\n",
    "            noise=noise,\n",
    "            ref_img=img,\n",
    "            egsde_kwargs=egsde_kwargs,\n",
    "            range_t = 20\n",
    "        )\n",
    "        metric.update(img, sample_src)\n",
    "        if idx >= :\n",
    "            break\n",
    "    print(metric.print_metrics())"
   ]
  }
 ],
 "metadata": {
  "kernelspec": {
   "display_name": "base",
   "language": "python",
   "name": "python3"
  },
  "language_info": {
   "codemirror_mode": {
    "name": "ipython",
    "version": 3
   },
   "file_extension": ".py",
   "mimetype": "text/x-python",
   "name": "python",
   "nbconvert_exporter": "python",
   "pygments_lexer": "ipython3",
   "version": "3.8.12"
  },
  "orig_nbformat": 4
 },
 "nbformat": 4,
 "nbformat_minor": 2
}
